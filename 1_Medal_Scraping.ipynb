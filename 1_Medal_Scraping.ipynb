{
 "cells": [
  {
   "cell_type": "markdown",
   "id": "079ebadc",
   "metadata": {},
   "source": [
    "Required libraries."
   ]
  },
  {
   "cell_type": "code",
   "execution_count": 1,
   "id": "61007fba",
   "metadata": {},
   "outputs": [],
   "source": [
    "from bs4 import BeautifulSoup \n",
    "import requests"
   ]
  },
  {
   "cell_type": "markdown",
   "id": "2fce98d2",
   "metadata": {},
   "source": [
    "Scraping functions: generate BeautifulSoup object and analyze medal table."
   ]
  },
  {
   "cell_type": "code",
   "execution_count": 2,
   "id": "99b3b6e7",
   "metadata": {},
   "outputs": [],
   "source": [
    "def wiki_medal_table(year, event='Summer'):\n",
    "    '''Returns BeautifulSoup object of Wikipedia medal table page \n",
    "    for given Olympic event('Summer' or 'Winter')and year.\n",
    "    '''\n",
    "    \n",
    "    print(f'Getting Wikipedia page for {year} {event} Olympics...')\n",
    "    url = f'https://en.wikipedia.org/wiki/{year}_{event}_Olympics_medal_table'\n",
    "    return BeautifulSoup(requests.get(url).text, 'html5lib')\n",
    "\n",
    "def first_gold_medals(year,record):\n",
    "    '''Writes countries that scored their first Olympic gold during\n",
    "    the specified year to the dictionary record.\n",
    "    '''\n",
    "    \n",
    "    tables = wiki_medal_table(year).find_all('table')\n",
    "    medals = ''\n",
    "    for table in tables:\n",
    "        if table['class'][0] == 'wikitable':\n",
    "            medals = table\n",
    "            break\n",
    "    \n",
    "    print(f'Analyzing medal table for {year}...')\n",
    "    for row in medals.find_all('tr'):\n",
    "        if row.find_all('span'):\n",
    "            country = row.find_all('span')[0].string.strip('()')\n",
    "            if country in record:\n",
    "                continue\n",
    "            cols = row.find_all('td')\n",
    "            # Check if gold medal column has nonzero value\n",
    "            if cols and cols[len(cols) - 4].string != '0':\n",
    "                record[country] = year"
   ]
  },
  {
   "cell_type": "markdown",
   "id": "0de677a5",
   "metadata": {},
   "source": [
    "Generating Summer Olympics records. Simpler to hardcode missing years that can be counted on one hand rather than additional code to handle missing Wikipedia pages. Counts reallocations."
   ]
  },
  {
   "cell_type": "code",
   "execution_count": 4,
   "id": "5bbda1e8",
   "metadata": {},
   "outputs": [
    {
     "name": "stdout",
     "output_type": "stream",
     "text": [
      "Getting Wikipedia page for 1896 Summer Olympics...\n",
      "Analyzing medal table for 1896...\n",
      "Getting Wikipedia page for 1900 Summer Olympics...\n",
      "Analyzing medal table for 1900...\n",
      "Getting Wikipedia page for 1904 Summer Olympics...\n",
      "Analyzing medal table for 1904...\n",
      "Getting Wikipedia page for 1908 Summer Olympics...\n",
      "Analyzing medal table for 1908...\n",
      "Getting Wikipedia page for 1912 Summer Olympics...\n",
      "Analyzing medal table for 1912...\n",
      "Getting Wikipedia page for 1920 Summer Olympics...\n",
      "Analyzing medal table for 1920...\n",
      "Getting Wikipedia page for 1924 Summer Olympics...\n",
      "Analyzing medal table for 1924...\n",
      "Getting Wikipedia page for 1928 Summer Olympics...\n",
      "Analyzing medal table for 1928...\n",
      "Getting Wikipedia page for 1932 Summer Olympics...\n",
      "Analyzing medal table for 1932...\n",
      "Getting Wikipedia page for 1936 Summer Olympics...\n",
      "Analyzing medal table for 1936...\n",
      "Getting Wikipedia page for 1948 Summer Olympics...\n",
      "Analyzing medal table for 1948...\n",
      "Getting Wikipedia page for 1952 Summer Olympics...\n",
      "Analyzing medal table for 1952...\n",
      "Getting Wikipedia page for 1956 Summer Olympics...\n",
      "Analyzing medal table for 1956...\n",
      "Getting Wikipedia page for 1960 Summer Olympics...\n",
      "Analyzing medal table for 1960...\n",
      "Getting Wikipedia page for 1964 Summer Olympics...\n",
      "Analyzing medal table for 1964...\n",
      "Getting Wikipedia page for 1968 Summer Olympics...\n",
      "Analyzing medal table for 1968...\n",
      "Getting Wikipedia page for 1972 Summer Olympics...\n",
      "Analyzing medal table for 1972...\n",
      "Getting Wikipedia page for 1976 Summer Olympics...\n",
      "Analyzing medal table for 1976...\n",
      "Getting Wikipedia page for 1980 Summer Olympics...\n",
      "Analyzing medal table for 1980...\n",
      "Getting Wikipedia page for 1984 Summer Olympics...\n",
      "Analyzing medal table for 1984...\n",
      "Getting Wikipedia page for 1988 Summer Olympics...\n",
      "Analyzing medal table for 1988...\n",
      "Getting Wikipedia page for 1992 Summer Olympics...\n",
      "Analyzing medal table for 1992...\n",
      "Getting Wikipedia page for 1996 Summer Olympics...\n",
      "Analyzing medal table for 1996...\n",
      "Getting Wikipedia page for 2000 Summer Olympics...\n",
      "Analyzing medal table for 2000...\n",
      "Getting Wikipedia page for 2004 Summer Olympics...\n",
      "Analyzing medal table for 2004...\n",
      "Getting Wikipedia page for 2008 Summer Olympics...\n",
      "Analyzing medal table for 2008...\n",
      "Getting Wikipedia page for 2012 Summer Olympics...\n",
      "Analyzing medal table for 2012...\n",
      "Getting Wikipedia page for 2016 Summer Olympics...\n",
      "Analyzing medal table for 2016...\n",
      "{'USA': 1896, 'GRE': 1896, 'GER': 1896, 'FRA': 1896, 'GBR': 1896, 'HUN': 1896, 'AUT': 1896, 'AUS': 1896, 'DEN': 1896, 'SUI': 1896, 'ZZX': 1896, 'BEL': 1900, 'ITA': 1900, 'CUB': 1900, 'CAN': 1900, 'ESP': 1900, 'SWE': 1908, 'NOR': 1908, 'ANZ': 1908, 'RU1': 1908, 'FIN': 1908, 'RSA': 1908, 'NED': 1920, 'EST': 1920, 'BRA': 1920, 'YUG': 1924, 'TCH': 1924, 'ARG': 1924, 'URU': 1924, 'JPN': 1928, 'EGY': 1928, 'POL': 1928, 'IND': 1928, 'IRL': 1928, 'NZL': 1928, 'TUR': 1936, 'MEX': 1948, 'JAM': 1948, 'PER': 1948, 'URS': 1952, 'ROU': 1952, 'LUX': 1952, 'EUA': 1956, 'IRI': 1956, 'BUL': 1956, 'PAK': 1960, 'ETH': 1960, 'BAH': 1964, 'GDR': 1968, 'FRG': 1968, 'KEN': 1968, 'TUN': 1968, 'VEN': 1968, 'PRK': 1972, 'UGA': 1972, 'KOR': 1976, 'TRI': 1976, 'ZIM': 1980, 'CHN': 1984, 'MAR': 1984, 'POR': 1984, 'SUR': 1988, 'EUN': 1992, 'INA': 1992, 'ALG': 1992, 'LTU': 1992, 'RUS': 1996, 'UKR': 1996, 'CZE': 1996, 'KAZ': 1996, 'NGR': 1996, 'BLR': 1996, 'SVK': 1996, 'ARM': 1996, 'CRO': 1996, 'THA': 1996, 'BDI': 1996, 'CRC': 1996, 'ECU': 1996, 'HKG': 1996, 'SYR': 1996, 'AZE': 2000, 'SLO': 2000, 'UZB': 2000, 'LAT': 2000, 'CMR': 2000, 'COL': 2000, 'MOZ': 2000, 'TPE': 2004, 'GEO': 2004, 'CHI': 2004, 'ISR': 2004, 'DOM': 2004, 'UAE': 2004, 'MGL': 2008, 'TTO': 2008, 'PAN': 2008, 'SRB': 2012, 'BRN': 2012, 'GRN': 2012, 'VIE': 2016, 'IOA': 2016, 'CIV': 2016, 'FIJ': 2016, 'JOR': 2016, 'KOS': 2016, 'PUR': 2016, 'SIN': 2016, 'TJK': 2016}\n"
     ]
    }
   ],
   "source": [
    "firsts = {}\n",
    "\n",
    "for year in range(1896,2020,4):\n",
    "    if year not in (1916,1940,1944):\n",
    "        first_gold_medals(year, firsts)\n",
    "print(firsts)"
   ]
  },
  {
   "cell_type": "markdown",
   "id": "1057ed2a",
   "metadata": {},
   "source": [
    "Writing to CSV."
   ]
  },
  {
   "cell_type": "code",
   "execution_count": 8,
   "id": "406c38eb",
   "metadata": {},
   "outputs": [],
   "source": [
    "import csv\n",
    "\n",
    "with open('first_golds.csv', 'w') as first_golds:  \n",
    "    writer = csv.writer(first_golds)\n",
    "    writer.writerow(['Country', 'Year'])\n",
    "    for country, year in firsts.items():\n",
    "       writer.writerow([country, year])"
   ]
  },
  {
   "cell_type": "markdown",
   "id": "615392c8",
   "metadata": {},
   "source": [
    "Testing and debugging: \n",
    "\n",
    "[X] Erroneous results in 1912 with NED. Time.sleep did not work. ~~Try identifying user agent.~~ Not potential timeout or lag. Was catching last row with medal total due to wrong indentation.\n",
    "\n",
    "[X] Erroneous results in 1936 with TUR, not recording first. Wrong table found, due to new \"Part of a series\" sidebar. Need way to identify medal table: Second table (or (tables)[1]) for 1936 onward.\n",
    "\n",
    "[X] Missing rank 21 and 24 rows for 1928, medal first ties. Getting wrong table due to setting last wikitable, need to break (assumes first wikitable is main medal table)."
   ]
  },
  {
   "cell_type": "code",
   "execution_count": 16,
   "id": "fc1d03c9",
   "metadata": {},
   "outputs": [
    {
     "name": "stdout",
     "output_type": "stream",
     "text": [
      "<table class=\"wikitable sortable plainrowheaders jquery-tablesorter\" style=\"text-align:center\"><caption></caption><tbody><tr><th scope=\"col\">Rank</th><th scope=\"col\">Nation</th><th class=\"headerSort\" scope=\"col\" style=\"width:4em;background-color:gold\">Gold</th><th class=\"headerSort\" scope=\"col\" style=\"width:4em;background-color:silver\">Silver</th><th class=\"headerSort\" scope=\"col\" style=\"width:4em;background-color:#c96\">Bronze</th><th scope=\"col\" style=\"width:4em\">Total</th></tr><tr><td>1</td><th scope=\"row\" style=\"background-color:#f8f9fa;text-align:left\"><img alt=\"\" class=\"thumbborder\" data-file-height=\"650\" data-file-width=\"1235\" decoding=\"async\" height=\"12\" src=\"//upload.wikimedia.org/wikipedia/commons/thumb/f/f5/Flag_of_the_United_States_%281912-1959%29.svg/22px-Flag_of_the_United_States_%281912-1959%29.svg.png\" srcset=\"//upload.wikimedia.org/wikipedia/commons/thumb/f/f5/Flag_of_the_United_States_%281912-1959%29.svg/33px-Flag_of_the_United_States_%281912-1959%29.svg.png 1.5x, //upload.wikimedia.org/wikipedia/commons/thumb/f/f5/Flag_of_the_United_States_%281912-1959%29.svg/44px-Flag_of_the_United_States_%281912-1959%29.svg.png 2x\" width=\"22\"/> <a href=\"/wiki/United_States_at_the_1928_Summer_Olympics\" title=\"United States at the 1928 Summer Olympics\">United States</a> <span style=\"font-size:90%;\">(USA)</span></th><td>22</td><td>18</td><td>16</td><td>56</td></tr><tr><td>2</td><th scope=\"row\" style=\"background-color:#f8f9fa;text-align:left\"><img alt=\"\" class=\"thumbborder\" data-file-height=\"341\" data-file-width=\"512\" decoding=\"async\" height=\"15\" src=\"//upload.wikimedia.org/wikipedia/commons/thumb/8/86/Flag_of_Germany_%283-2_aspect_ratio%29.svg/22px-Flag_of_Germany_%283-2_aspect_ratio%29.svg.png\" srcset=\"//upload.wikimedia.org/wikipedia/commons/thumb/8/86/Flag_of_Germany_%283-2_aspect_ratio%29.svg/33px-Flag_of_Germany_%283-2_aspect_ratio%29.svg.png 1.5x, //upload.wikimedia.org/wikipedia/commons/thumb/8/86/Flag_of_Germany_%283-2_aspect_ratio%29.svg/44px-Flag_of_Germany_%283-2_aspect_ratio%29.svg.png 2x\" width=\"22\"/> <a href=\"/wiki/Germany_at_the_1928_Summer_Olympics\" title=\"Germany at the 1928 Summer Olympics\">Germany</a> <span style=\"font-size:90%;\">(GER)</span></th><td>10</td><td>7</td><td>14</td><td>31</td></tr><tr><td>3</td><th scope=\"row\" style=\"background-color:#f8f9fa;text-align:left\"><img alt=\"\" class=\"thumbborder\" data-file-height=\"1100\" data-file-width=\"1800\" decoding=\"async\" height=\"13\" src=\"//upload.wikimedia.org/wikipedia/commons/thumb/b/bc/Flag_of_Finland.svg/22px-Flag_of_Finland.svg.png\" srcset=\"//upload.wikimedia.org/wikipedia/commons/thumb/b/bc/Flag_of_Finland.svg/33px-Flag_of_Finland.svg.png 1.5x, //upload.wikimedia.org/wikipedia/commons/thumb/b/bc/Flag_of_Finland.svg/44px-Flag_of_Finland.svg.png 2x\" width=\"22\"/> <a href=\"/wiki/Finland_at_the_1928_Summer_Olympics\" title=\"Finland at the 1928 Summer Olympics\">Finland</a> <span style=\"font-size:90%;\">(FIN)</span></th><td>8</td><td>8</td><td>9</td><td>25</td></tr><tr><td>4</td><th scope=\"row\" style=\"background-color:#f8f9fa;text-align:left\"><img alt=\"\" class=\"thumbborder\" data-file-height=\"1000\" data-file-width=\"1600\" decoding=\"async\" height=\"14\" src=\"//upload.wikimedia.org/wikipedia/en/thumb/4/4c/Flag_of_Sweden.svg/22px-Flag_of_Sweden.svg.png\" srcset=\"//upload.wikimedia.org/wikipedia/en/thumb/4/4c/Flag_of_Sweden.svg/33px-Flag_of_Sweden.svg.png 1.5x, //upload.wikimedia.org/wikipedia/en/thumb/4/4c/Flag_of_Sweden.svg/44px-Flag_of_Sweden.svg.png 2x\" width=\"22\"/> <a href=\"/wiki/Sweden_at_the_1928_Summer_Olympics\" title=\"Sweden at the 1928 Summer Olympics\">Sweden</a> <span style=\"font-size:90%;\">(SWE)</span></th><td>7</td><td>6</td><td>12</td><td>25</td></tr><tr><td>5</td><th scope=\"row\" style=\"background-color:#f8f9fa;text-align:left\"><img alt=\"\" class=\"thumbborder\" data-file-height=\"1000\" data-file-width=\"1500\" decoding=\"async\" height=\"15\" src=\"//upload.wikimedia.org/wikipedia/commons/thumb/7/78/Flag_of_Italy_%281861%E2%80%931946%29.svg/22px-Flag_of_Italy_%281861%E2%80%931946%29.svg.png\" srcset=\"//upload.wikimedia.org/wikipedia/commons/thumb/7/78/Flag_of_Italy_%281861%E2%80%931946%29.svg/33px-Flag_of_Italy_%281861%E2%80%931946%29.svg.png 1.5x, //upload.wikimedia.org/wikipedia/commons/thumb/7/78/Flag_of_Italy_%281861%E2%80%931946%29.svg/44px-Flag_of_Italy_%281861%E2%80%931946%29.svg.png 2x\" width=\"22\"/> <a href=\"/wiki/Italy_at_the_1928_Summer_Olympics\" title=\"Italy at the 1928 Summer Olympics\">Italy</a> <span style=\"font-size:90%;\">(ITA)</span></th><td>7</td><td>5</td><td>7</td><td>19</td></tr><tr><td>6</td><th scope=\"row\" style=\"background-color:#f8f9fa;text-align:left\"><img alt=\"\" class=\"thumbborder\" data-file-height=\"512\" data-file-width=\"512\" decoding=\"async\" height=\"20\" src=\"//upload.wikimedia.org/wikipedia/commons/thumb/f/f3/Flag_of_Switzerland.svg/20px-Flag_of_Switzerland.svg.png\" srcset=\"//upload.wikimedia.org/wikipedia/commons/thumb/f/f3/Flag_of_Switzerland.svg/30px-Flag_of_Switzerland.svg.png 1.5x, //upload.wikimedia.org/wikipedia/commons/thumb/f/f3/Flag_of_Switzerland.svg/40px-Flag_of_Switzerland.svg.png 2x\" width=\"20\"/> <a href=\"/wiki/Switzerland_at_the_1928_Summer_Olympics\" title=\"Switzerland at the 1928 Summer Olympics\">Switzerland</a> <span style=\"font-size:90%;\">(SUI)</span></th><td>7</td><td>4</td><td>4</td><td>15</td></tr><tr><td>7</td><th scope=\"row\" style=\"background-color:#f8f9fa;text-align:left\"><img alt=\"\" class=\"thumbborder\" data-file-height=\"600\" data-file-width=\"900\" decoding=\"async\" height=\"15\" src=\"//upload.wikimedia.org/wikipedia/en/thumb/c/c3/Flag_of_France.svg/22px-Flag_of_France.svg.png\" srcset=\"//upload.wikimedia.org/wikipedia/en/thumb/c/c3/Flag_of_France.svg/33px-Flag_of_France.svg.png 1.5x, //upload.wikimedia.org/wikipedia/en/thumb/c/c3/Flag_of_France.svg/44px-Flag_of_France.svg.png 2x\" width=\"22\"/> <a href=\"/wiki/France_at_the_1928_Summer_Olympics\" title=\"France at the 1928 Summer Olympics\">France</a> <span style=\"font-size:90%;\">(FRA)</span></th><td>6</td><td>10</td><td>5</td><td>21</td></tr><tr><td>8</td><th scope=\"row\" style=\"background-color:#ccccff;text-align:left\"><img alt=\"\" class=\"thumbborder\" data-file-height=\"600\" data-file-width=\"900\" decoding=\"async\" height=\"15\" src=\"//upload.wikimedia.org/wikipedia/commons/thumb/2/20/Flag_of_the_Netherlands.svg/22px-Flag_of_the_Netherlands.svg.png\" srcset=\"//upload.wikimedia.org/wikipedia/commons/thumb/2/20/Flag_of_the_Netherlands.svg/33px-Flag_of_the_Netherlands.svg.png 1.5x, //upload.wikimedia.org/wikipedia/commons/thumb/2/20/Flag_of_the_Netherlands.svg/44px-Flag_of_the_Netherlands.svg.png 2x\" width=\"22\"/> <a href=\"/wiki/Netherlands_at_the_1928_Summer_Olympics\" title=\"Netherlands at the 1928 Summer Olympics\">Netherlands</a> <span style=\"font-size:90%;\">(NED)</span>*</th><td>6</td><td>9</td><td>4</td><td>19</td></tr><tr><td>9</td><th scope=\"row\" style=\"background-color:#f8f9fa;text-align:left\"><img alt=\"\" class=\"thumbborder\" data-file-height=\"600\" data-file-width=\"900\" decoding=\"async\" height=\"15\" src=\"//upload.wikimedia.org/wikipedia/commons/thumb/c/cb/Flag_of_Hungary_%281915-1918%2C_1919-1946%3B_3-2_aspect_ratio%29.svg/22px-Flag_of_Hungary_%281915-1918%2C_1919-1946%3B_3-2_aspect_ratio%29.svg.png\" srcset=\"//upload.wikimedia.org/wikipedia/commons/thumb/c/cb/Flag_of_Hungary_%281915-1918%2C_1919-1946%3B_3-2_aspect_ratio%29.svg/33px-Flag_of_Hungary_%281915-1918%2C_1919-1946%3B_3-2_aspect_ratio%29.svg.png 1.5x, //upload.wikimedia.org/wikipedia/commons/thumb/c/cb/Flag_of_Hungary_%281915-1918%2C_1919-1946%3B_3-2_aspect_ratio%29.svg/44px-Flag_of_Hungary_%281915-1918%2C_1919-1946%3B_3-2_aspect_ratio%29.svg.png 2x\" width=\"22\"/> <a href=\"/wiki/Hungary_at_the_1928_Summer_Olympics\" title=\"Hungary at the 1928 Summer Olympics\">Hungary</a> <span style=\"font-size:90%;\">(HUN)</span></th><td>4</td><td>5</td><td>0</td><td>9</td></tr><tr><td>10</td><th scope=\"row\" style=\"background-color:#f8f9fa;text-align:left\"><img alt=\"\" class=\"thumbborder\" data-file-height=\"256\" data-file-width=\"512\" decoding=\"async\" height=\"11\" src=\"//upload.wikimedia.org/wikipedia/commons/thumb/6/6d/Flag_of_Canada_%281921%E2%80%931957%29.svg/22px-Flag_of_Canada_%281921%E2%80%931957%29.svg.png\" srcset=\"//upload.wikimedia.org/wikipedia/commons/thumb/6/6d/Flag_of_Canada_%281921%E2%80%931957%29.svg/33px-Flag_of_Canada_%281921%E2%80%931957%29.svg.png 1.5x, //upload.wikimedia.org/wikipedia/commons/thumb/6/6d/Flag_of_Canada_%281921%E2%80%931957%29.svg/44px-Flag_of_Canada_%281921%E2%80%931957%29.svg.png 2x\" width=\"22\"/> <a href=\"/wiki/Canada_at_the_1928_Summer_Olympics\" title=\"Canada at the 1928 Summer Olympics\">Canada</a> <span style=\"font-size:90%;\">(CAN)</span></th><td>4</td><td>4</td><td>7</td><td>15</td></tr><tr><td>11</td><th scope=\"row\" style=\"background-color:#f8f9fa;text-align:left\"><img alt=\"\" class=\"thumbborder\" data-file-height=\"600\" data-file-width=\"1200\" decoding=\"async\" height=\"11\" src=\"//upload.wikimedia.org/wikipedia/en/thumb/a/ae/Flag_of_the_United_Kingdom.svg/22px-Flag_of_the_United_Kingdom.svg.png\" srcset=\"//upload.wikimedia.org/wikipedia/en/thumb/a/ae/Flag_of_the_United_Kingdom.svg/33px-Flag_of_the_United_Kingdom.svg.png 1.5x, //upload.wikimedia.org/wikipedia/en/thumb/a/ae/Flag_of_the_United_Kingdom.svg/44px-Flag_of_the_United_Kingdom.svg.png 2x\" width=\"22\"/> <a href=\"/wiki/Great_Britain_at_the_1928_Summer_Olympics\" title=\"Great Britain at the 1928 Summer Olympics\">Great Britain</a> <span style=\"font-size:90%;\">(GBR)</span></th><td>3</td><td>10</td><td>7</td><td>20</td></tr><tr><td>12</td><th scope=\"row\" style=\"background-color:#f8f9fa;text-align:left\"><img alt=\"\" class=\"thumbborder\" data-file-height=\"500\" data-file-width=\"800\" decoding=\"async\" height=\"14\" src=\"//upload.wikimedia.org/wikipedia/commons/thumb/1/1a/Flag_of_Argentina.svg/22px-Flag_of_Argentina.svg.png\" srcset=\"//upload.wikimedia.org/wikipedia/commons/thumb/1/1a/Flag_of_Argentina.svg/33px-Flag_of_Argentina.svg.png 1.5x, //upload.wikimedia.org/wikipedia/commons/thumb/1/1a/Flag_of_Argentina.svg/44px-Flag_of_Argentina.svg.png 2x\" width=\"22\"/> <a href=\"/wiki/Argentina_at_the_1928_Summer_Olympics\" title=\"Argentina at the 1928 Summer Olympics\">Argentina</a> <span style=\"font-size:90%;\">(ARG)</span></th><td>3</td><td>3</td><td>1</td><td>7</td></tr><tr><td>13</td><th scope=\"row\" style=\"background-color:#f8f9fa;text-align:left\"><img alt=\"\" class=\"thumbborder\" data-file-height=\"387\" data-file-width=\"512\" decoding=\"async\" height=\"17\" src=\"//upload.wikimedia.org/wikipedia/commons/thumb/9/9c/Flag_of_Denmark.svg/22px-Flag_of_Denmark.svg.png\" srcset=\"//upload.wikimedia.org/wikipedia/commons/thumb/9/9c/Flag_of_Denmark.svg/33px-Flag_of_Denmark.svg.png 1.5x, //upload.wikimedia.org/wikipedia/commons/thumb/9/9c/Flag_of_Denmark.svg/44px-Flag_of_Denmark.svg.png 2x\" width=\"22\"/> <a href=\"/wiki/Denmark_at_the_1928_Summer_Olympics\" title=\"Denmark at the 1928 Summer Olympics\">Denmark</a> <span style=\"font-size:90%;\">(DEN)</span></th><td>3</td><td>1</td><td>2</td><td>6</td></tr><tr><td>14</td><th scope=\"row\" style=\"background-color:#f8f9fa;text-align:left\"><img alt=\"\" class=\"thumbborder\" data-file-height=\"600\" data-file-width=\"900\" decoding=\"async\" height=\"15\" src=\"//upload.wikimedia.org/wikipedia/commons/thumb/c/cb/Flag_of_the_Czech_Republic.svg/22px-Flag_of_the_Czech_Republic.svg.png\" srcset=\"//upload.wikimedia.org/wikipedia/commons/thumb/c/cb/Flag_of_the_Czech_Republic.svg/33px-Flag_of_the_Czech_Republic.svg.png 1.5x, //upload.wikimedia.org/wikipedia/commons/thumb/c/cb/Flag_of_the_Czech_Republic.svg/44px-Flag_of_the_Czech_Republic.svg.png 2x\" width=\"22\"/> <a href=\"/wiki/Czechoslovakia_at_the_1928_Summer_Olympics\" title=\"Czechoslovakia at the 1928 Summer Olympics\">Czechoslovakia</a> <span style=\"font-size:90%;\">(TCH)</span></th><td>2</td><td>5</td><td>2</td><td>9</td></tr><tr><td>15</td><th scope=\"row\" style=\"background-color:#f8f9fa;text-align:left\"><img alt=\"\" class=\"thumbborder\" data-file-height=\"700\" data-file-width=\"1000\" decoding=\"async\" height=\"15\" src=\"//upload.wikimedia.org/wikipedia/commons/thumb/1/1b/Flag_of_Japan_%281870%E2%80%931999%29.svg/22px-Flag_of_Japan_%281870%E2%80%931999%29.svg.png\" srcset=\"//upload.wikimedia.org/wikipedia/commons/thumb/1/1b/Flag_of_Japan_%281870%E2%80%931999%29.svg/33px-Flag_of_Japan_%281870%E2%80%931999%29.svg.png 1.5x, //upload.wikimedia.org/wikipedia/commons/thumb/1/1b/Flag_of_Japan_%281870%E2%80%931999%29.svg/44px-Flag_of_Japan_%281870%E2%80%931999%29.svg.png 2x\" width=\"22\"/> <a href=\"/wiki/Japan_at_the_1928_Summer_Olympics\" title=\"Japan at the 1928 Summer Olympics\">Japan</a> <span style=\"font-size:90%;\">(JPN)</span></th><td>2</td><td>2</td><td>1</td><td>5</td></tr><tr><td>16</td><th scope=\"row\" style=\"background-color:#f8f9fa;text-align:left\"><img alt=\"\" class=\"thumbborder\" data-file-height=\"630\" data-file-width=\"990\" decoding=\"async\" height=\"14\" src=\"//upload.wikimedia.org/wikipedia/commons/thumb/8/8f/Flag_of_Estonia.svg/22px-Flag_of_Estonia.svg.png\" srcset=\"//upload.wikimedia.org/wikipedia/commons/thumb/8/8f/Flag_of_Estonia.svg/33px-Flag_of_Estonia.svg.png 1.5x, //upload.wikimedia.org/wikipedia/commons/thumb/8/8f/Flag_of_Estonia.svg/44px-Flag_of_Estonia.svg.png 2x\" width=\"22\"/> <a href=\"/wiki/Estonia_at_the_1928_Summer_Olympics\" title=\"Estonia at the 1928 Summer Olympics\">Estonia</a> <span style=\"font-size:90%;\">(EST)</span></th><td>2</td><td>1</td><td>2</td><td>5</td></tr><tr><td>17</td><th scope=\"row\" style=\"background-color:#f8f9fa;text-align:left\"><img alt=\"\" class=\"thumbborder\" data-file-height=\"672\" data-file-width=\"1008\" decoding=\"async\" height=\"15\" src=\"//upload.wikimedia.org/wikipedia/commons/thumb/2/21/Flag_of_Egypt_%281922%E2%80%931953%29.svg/22px-Flag_of_Egypt_%281922%E2%80%931953%29.svg.png\" srcset=\"//upload.wikimedia.org/wikipedia/commons/thumb/2/21/Flag_of_Egypt_%281922%E2%80%931953%29.svg/33px-Flag_of_Egypt_%281922%E2%80%931953%29.svg.png 1.5x, //upload.wikimedia.org/wikipedia/commons/thumb/2/21/Flag_of_Egypt_%281922%E2%80%931953%29.svg/44px-Flag_of_Egypt_%281922%E2%80%931953%29.svg.png 2x\" width=\"22\"/> <a href=\"/wiki/Egypt_at_the_1928_Summer_Olympics\" title=\"Egypt at the 1928 Summer Olympics\">Egypt</a> <span style=\"font-size:90%;\">(EGY)</span></th><td>2</td><td>1</td><td>1</td><td>4</td></tr><tr><td>18</td><th scope=\"row\" style=\"background-color:#f8f9fa;text-align:left\"><img alt=\"\" class=\"thumbborder\" data-file-height=\"600\" data-file-width=\"900\" decoding=\"async\" height=\"15\" src=\"//upload.wikimedia.org/wikipedia/commons/thumb/4/41/Flag_of_Austria.svg/22px-Flag_of_Austria.svg.png\" srcset=\"//upload.wikimedia.org/wikipedia/commons/thumb/4/41/Flag_of_Austria.svg/33px-Flag_of_Austria.svg.png 1.5x, //upload.wikimedia.org/wikipedia/commons/thumb/4/41/Flag_of_Austria.svg/44px-Flag_of_Austria.svg.png 2x\" width=\"22\"/> <a href=\"/wiki/Austria_at_the_1928_Summer_Olympics\" title=\"Austria at the 1928 Summer Olympics\">Austria</a> <span style=\"font-size:90%;\">(AUT)</span></th><td>2</td><td>0</td><td>1</td><td>3</td></tr><tr><td rowspan=\"2\">19</td><th scope=\"row\" style=\"background-color:#f8f9fa;text-align:left\"><img alt=\"\" class=\"thumbborder\" data-file-height=\"640\" data-file-width=\"1280\" decoding=\"async\" height=\"11\" src=\"//upload.wikimedia.org/wikipedia/en/thumb/b/b9/Flag_of_Australia.svg/22px-Flag_of_Australia.svg.png\" srcset=\"//upload.wikimedia.org/wikipedia/en/thumb/b/b9/Flag_of_Australia.svg/33px-Flag_of_Australia.svg.png 1.5x, //upload.wikimedia.org/wikipedia/en/thumb/b/b9/Flag_of_Australia.svg/44px-Flag_of_Australia.svg.png 2x\" width=\"22\"/> <a href=\"/wiki/Australia_at_the_1928_Summer_Olympics\" title=\"Australia at the 1928 Summer Olympics\">Australia</a> <span style=\"font-size:90%;\">(AUS)</span></th><td>1</td><td>2</td><td>1</td><td>4</td></tr><tr><th scope=\"row\" style=\"background-color:#f8f9fa;text-align:left\"><img alt=\"\" class=\"thumbborder\" data-file-height=\"372\" data-file-width=\"512\" decoding=\"async\" height=\"16\" src=\"//upload.wikimedia.org/wikipedia/commons/thumb/d/d9/Flag_of_Norway.svg/22px-Flag_of_Norway.svg.png\" srcset=\"//upload.wikimedia.org/wikipedia/commons/thumb/d/d9/Flag_of_Norway.svg/33px-Flag_of_Norway.svg.png 1.5x, //upload.wikimedia.org/wikipedia/commons/thumb/d/d9/Flag_of_Norway.svg/44px-Flag_of_Norway.svg.png 2x\" width=\"22\"/> <a href=\"/wiki/Norway_at_the_1928_Summer_Olympics\" title=\"Norway at the 1928 Summer Olympics\">Norway</a> <span style=\"font-size:90%;\">(NOR)</span></th><td>1</td><td>2</td><td>1</td><td>4</td></tr><tr><td rowspan=\"2\">21</td><th scope=\"row\" style=\"background-color:#f8f9fa;text-align:left\"><img alt=\"\" class=\"thumbborder\" data-file-height=\"400\" data-file-width=\"640\" decoding=\"async\" height=\"14\" src=\"//upload.wikimedia.org/wikipedia/commons/thumb/f/fa/Flag_of_Poland_%281919%E2%80%931928%29.svg/22px-Flag_of_Poland_%281919%E2%80%931928%29.svg.png\" srcset=\"//upload.wikimedia.org/wikipedia/commons/thumb/f/fa/Flag_of_Poland_%281919%E2%80%931928%29.svg/33px-Flag_of_Poland_%281919%E2%80%931928%29.svg.png 1.5x, //upload.wikimedia.org/wikipedia/commons/thumb/f/fa/Flag_of_Poland_%281919%E2%80%931928%29.svg/44px-Flag_of_Poland_%281919%E2%80%931928%29.svg.png 2x\" width=\"22\"/> <a href=\"/wiki/Poland_at_the_1928_Summer_Olympics\" title=\"Poland at the 1928 Summer Olympics\">Poland</a> <span style=\"font-size:90%;\">(POL)</span></th><td>1</td><td>1</td><td>3</td><td>5</td></tr><tr><th scope=\"row\" style=\"background-color:#f8f9fa;text-align:left\"><img alt=\"\" class=\"thumbborder\" data-file-height=\"600\" data-file-width=\"900\" decoding=\"async\" height=\"15\" src=\"//upload.wikimedia.org/wikipedia/commons/thumb/e/e5/Flag_of_Yugoslavia_%281918%E2%80%931941%29.svg/22px-Flag_of_Yugoslavia_%281918%E2%80%931941%29.svg.png\" srcset=\"//upload.wikimedia.org/wikipedia/commons/thumb/e/e5/Flag_of_Yugoslavia_%281918%E2%80%931941%29.svg/33px-Flag_of_Yugoslavia_%281918%E2%80%931941%29.svg.png 1.5x, //upload.wikimedia.org/wikipedia/commons/thumb/e/e5/Flag_of_Yugoslavia_%281918%E2%80%931941%29.svg/44px-Flag_of_Yugoslavia_%281918%E2%80%931941%29.svg.png 2x\" width=\"22\"/> <a href=\"/wiki/Yugoslavia_at_the_1928_Summer_Olympics\" title=\"Yugoslavia at the 1928 Summer Olympics\">Yugoslavia</a> <span style=\"font-size:90%;\">(YUG)</span></th><td>1</td><td>1</td><td>3</td><td>5</td></tr><tr><td>23</td><th scope=\"row\" style=\"background-color:#f8f9fa;text-align:left\"><img alt=\"\" class=\"thumbborder\" data-file-height=\"400\" data-file-width=\"800\" decoding=\"async\" height=\"11\" src=\"//upload.wikimedia.org/wikipedia/commons/thumb/6/6d/Red_Ensign_of_South_Africa_%281912%E2%80%931951%29.svg/22px-Red_Ensign_of_South_Africa_%281912%E2%80%931951%29.svg.png\" srcset=\"//upload.wikimedia.org/wikipedia/commons/thumb/6/6d/Red_Ensign_of_South_Africa_%281912%E2%80%931951%29.svg/33px-Red_Ensign_of_South_Africa_%281912%E2%80%931951%29.svg.png 1.5x, //upload.wikimedia.org/wikipedia/commons/thumb/6/6d/Red_Ensign_of_South_Africa_%281912%E2%80%931951%29.svg/44px-Red_Ensign_of_South_Africa_%281912%E2%80%931951%29.svg.png 2x\" width=\"22\"/> <a href=\"/wiki/South_Africa_at_the_1928_Summer_Olympics\" title=\"South Africa at the 1928 Summer Olympics\">South Africa</a> <span style=\"font-size:90%;\">(RSA)</span></th><td>1</td><td>0</td><td>2</td><td>3</td></tr><tr><td rowspan=\"5\">24</td><th scope=\"row\" style=\"background-color:#f8f9fa;text-align:left\"><img alt=\"\" class=\"thumbborder\" data-file-height=\"300\" data-file-width=\"600\" decoding=\"async\" height=\"11\" src=\"//upload.wikimedia.org/wikipedia/commons/thumb/b/be/British_Raj_Red_Ensign.svg/22px-British_Raj_Red_Ensign.svg.png\" srcset=\"//upload.wikimedia.org/wikipedia/commons/thumb/b/be/British_Raj_Red_Ensign.svg/33px-British_Raj_Red_Ensign.svg.png 1.5x, //upload.wikimedia.org/wikipedia/commons/thumb/b/be/British_Raj_Red_Ensign.svg/44px-British_Raj_Red_Ensign.svg.png 2x\" width=\"22\"/> <a href=\"/wiki/India_at_the_1928_Summer_Olympics\" title=\"India at the 1928 Summer Olympics\">India</a> <span style=\"font-size:90%;\">(IND)</span></th><td>1</td><td>0</td><td>0</td><td>1</td></tr><tr><th scope=\"row\" style=\"background-color:#f8f9fa;text-align:left\"><img alt=\"\" class=\"thumbborder\" data-file-height=\"600\" data-file-width=\"1200\" decoding=\"async\" height=\"11\" src=\"//upload.wikimedia.org/wikipedia/commons/thumb/4/45/Flag_of_Ireland.svg/22px-Flag_of_Ireland.svg.png\" srcset=\"//upload.wikimedia.org/wikipedia/commons/thumb/4/45/Flag_of_Ireland.svg/33px-Flag_of_Ireland.svg.png 1.5x, //upload.wikimedia.org/wikipedia/commons/thumb/4/45/Flag_of_Ireland.svg/44px-Flag_of_Ireland.svg.png 2x\" width=\"22\"/> <a href=\"/wiki/Ireland_at_the_1928_Summer_Olympics\" title=\"Ireland at the 1928 Summer Olympics\">Ireland</a> <span style=\"font-size:90%;\">(IRL)</span></th><td>1</td><td>0</td><td>0</td><td>1</td></tr><tr><th scope=\"row\" style=\"background-color:#f8f9fa;text-align:left\"><img alt=\"\" class=\"thumbborder\" data-file-height=\"600\" data-file-width=\"1200\" decoding=\"async\" height=\"11\" src=\"//upload.wikimedia.org/wikipedia/commons/thumb/3/3e/Flag_of_New_Zealand.svg/22px-Flag_of_New_Zealand.svg.png\" srcset=\"//upload.wikimedia.org/wikipedia/commons/thumb/3/3e/Flag_of_New_Zealand.svg/33px-Flag_of_New_Zealand.svg.png 1.5x, //upload.wikimedia.org/wikipedia/commons/thumb/3/3e/Flag_of_New_Zealand.svg/44px-Flag_of_New_Zealand.svg.png 2x\" width=\"22\"/> <a href=\"/wiki/New_Zealand_at_the_1928_Summer_Olympics\" title=\"New Zealand at the 1928 Summer Olympics\">New Zealand</a> <span style=\"font-size:90%;\">(NZL)</span></th><td>1</td><td>0</td><td>0</td><td>1</td></tr><tr><th scope=\"row\" style=\"background-color:#f8f9fa;text-align:left\"><img alt=\"\" class=\"thumbborder\" data-file-height=\"800\" data-file-width=\"1200\" decoding=\"async\" height=\"15\" src=\"//upload.wikimedia.org/wikipedia/commons/thumb/7/7d/Flag_of_Spain_%281785%E2%80%931873%2C_1875%E2%80%931931%29.svg/22px-Flag_of_Spain_%281785%E2%80%931873%2C_1875%E2%80%931931%29.svg.png\" srcset=\"//upload.wikimedia.org/wikipedia/commons/thumb/7/7d/Flag_of_Spain_%281785%E2%80%931873%2C_1875%E2%80%931931%29.svg/33px-Flag_of_Spain_%281785%E2%80%931873%2C_1875%E2%80%931931%29.svg.png 1.5x, //upload.wikimedia.org/wikipedia/commons/thumb/7/7d/Flag_of_Spain_%281785%E2%80%931873%2C_1875%E2%80%931931%29.svg/44px-Flag_of_Spain_%281785%E2%80%931873%2C_1875%E2%80%931931%29.svg.png 2x\" width=\"22\"/> <a href=\"/wiki/Spain_at_the_1928_Summer_Olympics\" title=\"Spain at the 1928 Summer Olympics\">Spain</a> <span style=\"font-size:90%;\">(ESP)</span></th><td>1</td><td>0</td><td>0</td><td>1</td></tr><tr><th scope=\"row\" style=\"background-color:#f8f9fa;text-align:left\"><img alt=\"\" class=\"thumbborder\" data-file-height=\"630\" data-file-width=\"945\" decoding=\"async\" height=\"15\" src=\"//upload.wikimedia.org/wikipedia/commons/thumb/f/fe/Flag_of_Uruguay.svg/22px-Flag_of_Uruguay.svg.png\" srcset=\"//upload.wikimedia.org/wikipedia/commons/thumb/f/fe/Flag_of_Uruguay.svg/33px-Flag_of_Uruguay.svg.png 1.5x, //upload.wikimedia.org/wikipedia/commons/thumb/f/fe/Flag_of_Uruguay.svg/44px-Flag_of_Uruguay.svg.png 2x\" width=\"22\"/> <a href=\"/wiki/Uruguay_at_the_1928_Summer_Olympics\" title=\"Uruguay at the 1928 Summer Olympics\">Uruguay</a> <span style=\"font-size:90%;\">(URU)</span></th><td>1</td><td>0</td><td>0</td><td>1</td></tr><tr><td>29</td><th scope=\"row\" style=\"background-color:#f8f9fa;text-align:left\"><img alt=\"\" class=\"thumbborder\" data-file-height=\"600\" data-file-width=\"900\" decoding=\"async\" height=\"15\" src=\"//upload.wikimedia.org/wikipedia/commons/thumb/9/92/Flag_of_Belgium_%28civil%29.svg/22px-Flag_of_Belgium_%28civil%29.svg.png\" srcset=\"//upload.wikimedia.org/wikipedia/commons/thumb/9/92/Flag_of_Belgium_%28civil%29.svg/33px-Flag_of_Belgium_%28civil%29.svg.png 1.5x, //upload.wikimedia.org/wikipedia/commons/thumb/9/92/Flag_of_Belgium_%28civil%29.svg/44px-Flag_of_Belgium_%28civil%29.svg.png 2x\" width=\"22\"/> <a href=\"/wiki/Belgium_at_the_1928_Summer_Olympics\" title=\"Belgium at the 1928 Summer Olympics\">Belgium</a> <span style=\"font-size:90%;\">(BEL)</span></th><td>0</td><td>1</td><td>2</td><td>3</td></tr><tr><td rowspan=\"2\">30</td><th scope=\"row\" style=\"background-color:#f8f9fa;text-align:left\"><img alt=\"\" class=\"thumbborder\" data-file-height=\"1000\" data-file-width=\"1500\" decoding=\"async\" height=\"15\" src=\"//upload.wikimedia.org/wikipedia/commons/thumb/7/78/Flag_of_Chile.svg/22px-Flag_of_Chile.svg.png\" srcset=\"//upload.wikimedia.org/wikipedia/commons/thumb/7/78/Flag_of_Chile.svg/33px-Flag_of_Chile.svg.png 1.5x, //upload.wikimedia.org/wikipedia/commons/thumb/7/78/Flag_of_Chile.svg/44px-Flag_of_Chile.svg.png 2x\" width=\"22\"/> <a href=\"/wiki/Chile_at_the_1928_Summer_Olympics\" title=\"Chile at the 1928 Summer Olympics\">Chile</a> <span style=\"font-size:90%;\">(CHI)</span></th><td>0</td><td>1</td><td>0</td><td>1</td></tr><tr><th scope=\"row\" style=\"background-color:#f8f9fa;text-align:left\"><img alt=\"\" class=\"thumbborder\" data-file-height=\"600\" data-file-width=\"1000\" decoding=\"async\" height=\"13\" src=\"//upload.wikimedia.org/wikipedia/commons/thumb/5/56/Flag_of_Haiti.svg/22px-Flag_of_Haiti.svg.png\" srcset=\"//upload.wikimedia.org/wikipedia/commons/thumb/5/56/Flag_of_Haiti.svg/33px-Flag_of_Haiti.svg.png 1.5x, //upload.wikimedia.org/wikipedia/commons/thumb/5/56/Flag_of_Haiti.svg/44px-Flag_of_Haiti.svg.png 2x\" width=\"22\"/> <a href=\"/wiki/Haiti_at_the_1928_Summer_Olympics\" title=\"Haiti at the 1928 Summer Olympics\">Haiti</a> <span style=\"font-size:90%;\">(HAI)</span></th><td>0</td><td>1</td><td>0</td><td>1</td></tr><tr><td rowspan=\"2\">32</td><th scope=\"row\" style=\"background-color:#f8f9fa;text-align:left\"><img alt=\"\" class=\"thumbborder\" data-file-height=\"450\" data-file-width=\"1064\" decoding=\"async\" height=\"9\" src=\"//upload.wikimedia.org/wikipedia/commons/thumb/c/c8/Flag_of_the_Philippines_%281919%E2%80%931936%29.svg/22px-Flag_of_the_Philippines_%281919%E2%80%931936%29.svg.png\" srcset=\"//upload.wikimedia.org/wikipedia/commons/thumb/c/c8/Flag_of_the_Philippines_%281919%E2%80%931936%29.svg/33px-Flag_of_the_Philippines_%281919%E2%80%931936%29.svg.png 1.5x, //upload.wikimedia.org/wikipedia/commons/thumb/c/c8/Flag_of_the_Philippines_%281919%E2%80%931936%29.svg/44px-Flag_of_the_Philippines_%281919%E2%80%931936%29.svg.png 2x\" width=\"22\"/> <a href=\"/wiki/Philippines_at_the_1928_Summer_Olympics\" title=\"Philippines at the 1928 Summer Olympics\">Philippines</a> <span style=\"font-size:90%;\">(PHI)</span></th><td>0</td><td>0</td><td>1</td><td>1</td></tr><tr><th scope=\"row\" style=\"background-color:#f8f9fa;text-align:left\"><img alt=\"\" class=\"thumbborder\" data-file-height=\"400\" data-file-width=\"600\" decoding=\"async\" height=\"15\" src=\"//upload.wikimedia.org/wikipedia/commons/thumb/5/5c/Flag_of_Portugal.svg/22px-Flag_of_Portugal.svg.png\" srcset=\"//upload.wikimedia.org/wikipedia/commons/thumb/5/5c/Flag_of_Portugal.svg/33px-Flag_of_Portugal.svg.png 1.5x, //upload.wikimedia.org/wikipedia/commons/thumb/5/5c/Flag_of_Portugal.svg/44px-Flag_of_Portugal.svg.png 2x\" width=\"22\"/> <a href=\"/wiki/Portugal_at_the_1928_Summer_Olympics\" title=\"Portugal at the 1928 Summer Olympics\">Portugal</a> <span style=\"font-size:90%;\">(POR)</span></th><td>0</td><td>0</td><td>1</td><td>1</td></tr><tr class=\"sortbottom\" style=\"background-color:#eaebef\"><th colspan=\"2\" scope=\"row\" style=\"background-color:#eaebef;font-weight:bold\">Totals (33 nations)</th><td style=\"font-weight:bold\">110</td><td style=\"font-weight:bold\">108</td><td style=\"font-weight:bold\">109</td><td style=\"font-weight:bold\">327</td></tr></tbody></table>\n",
      "<table class=\"wikitable sortable plainrowheaders jquery-tablesorter\" style=\"text-align:center\"><caption></caption><tbody><tr><th scope=\"col\">Rank</th><th scope=\"col\">Nation</th><th class=\"headerSort\" scope=\"col\" style=\"width:4em;background-color:gold\">Gold</th><th class=\"headerSort\" scope=\"col\" style=\"width:4em;background-color:silver\">Silver</th><th class=\"headerSort\" scope=\"col\" style=\"width:4em;background-color:#c96\">Bronze</th><th scope=\"col\" style=\"width:4em\">Total</th></tr><tr><td>1</td><th scope=\"row\" style=\"background-color:#ccccff;text-align:left\"><img alt=\"\" class=\"thumbborder\" data-file-height=\"600\" data-file-width=\"900\" decoding=\"async\" height=\"15\" src=\"//upload.wikimedia.org/wikipedia/commons/thumb/2/20/Flag_of_the_Netherlands.svg/22px-Flag_of_the_Netherlands.svg.png\" srcset=\"//upload.wikimedia.org/wikipedia/commons/thumb/2/20/Flag_of_the_Netherlands.svg/33px-Flag_of_the_Netherlands.svg.png 1.5x, //upload.wikimedia.org/wikipedia/commons/thumb/2/20/Flag_of_the_Netherlands.svg/44px-Flag_of_the_Netherlands.svg.png 2x\" width=\"22\"/> <a href=\"/wiki/Netherlands_at_the_1928_Summer_Olympics\" title=\"Netherlands at the 1928 Summer Olympics\">Netherlands</a> <span style=\"font-size:90%;\">(NED)</span>*</th><td>2</td><td>1</td><td>1</td><td>4</td></tr><tr><td>2</td><th scope=\"row\" style=\"background-color:#f8f9fa;text-align:left\"><img alt=\"\" class=\"thumbborder\" data-file-height=\"341\" data-file-width=\"512\" decoding=\"async\" height=\"15\" src=\"//upload.wikimedia.org/wikipedia/commons/thumb/8/86/Flag_of_Germany_%283-2_aspect_ratio%29.svg/22px-Flag_of_Germany_%283-2_aspect_ratio%29.svg.png\" srcset=\"//upload.wikimedia.org/wikipedia/commons/thumb/8/86/Flag_of_Germany_%283-2_aspect_ratio%29.svg/33px-Flag_of_Germany_%283-2_aspect_ratio%29.svg.png 1.5x, //upload.wikimedia.org/wikipedia/commons/thumb/8/86/Flag_of_Germany_%283-2_aspect_ratio%29.svg/44px-Flag_of_Germany_%283-2_aspect_ratio%29.svg.png 2x\" width=\"22\"/> <a href=\"/wiki/Germany_at_the_1928_Summer_Olympics\" title=\"Germany at the 1928 Summer Olympics\">Germany</a> <span style=\"font-size:90%;\">(GER)</span></th><td>1</td><td>2</td><td>5</td><td>8</td></tr><tr><td>3</td><th scope=\"row\" style=\"background-color:#f8f9fa;text-align:left\"><img alt=\"\" class=\"thumbborder\" data-file-height=\"600\" data-file-width=\"900\" decoding=\"async\" height=\"15\" src=\"//upload.wikimedia.org/wikipedia/en/thumb/c/c3/Flag_of_France.svg/22px-Flag_of_France.svg.png\" srcset=\"//upload.wikimedia.org/wikipedia/en/thumb/c/c3/Flag_of_France.svg/33px-Flag_of_France.svg.png 1.5x, //upload.wikimedia.org/wikipedia/en/thumb/c/c3/Flag_of_France.svg/44px-Flag_of_France.svg.png 2x\" width=\"22\"/> <a href=\"/wiki/France_at_the_1928_Summer_Olympics\" title=\"France at the 1928 Summer Olympics\">France</a> <span style=\"font-size:90%;\">(FRA)</span></th><td>1</td><td>2</td><td>1</td><td>4</td></tr><tr><td>4</td><th scope=\"row\" style=\"background-color:#f8f9fa;text-align:left\"><img alt=\"\" class=\"thumbborder\" data-file-height=\"600\" data-file-width=\"1200\" decoding=\"async\" height=\"11\" src=\"//upload.wikimedia.org/wikipedia/en/thumb/a/ae/Flag_of_the_United_Kingdom.svg/22px-Flag_of_the_United_Kingdom.svg.png\" srcset=\"//upload.wikimedia.org/wikipedia/en/thumb/a/ae/Flag_of_the_United_Kingdom.svg/33px-Flag_of_the_United_Kingdom.svg.png 1.5x, //upload.wikimedia.org/wikipedia/en/thumb/a/ae/Flag_of_the_United_Kingdom.svg/44px-Flag_of_the_United_Kingdom.svg.png 2x\" width=\"22\"/> <a href=\"/wiki/Great_Britain_at_the_1928_Summer_Olympics\" title=\"Great Britain at the 1928 Summer Olympics\">Great Britain</a> <span style=\"font-size:90%;\">(GBR)</span></th><td>1</td><td>1</td><td>0</td><td>2</td></tr><tr><td>5</td><th scope=\"row\" style=\"background-color:#f8f9fa;text-align:left\"><img alt=\"\" class=\"thumbborder\" data-file-height=\"400\" data-file-width=\"640\" decoding=\"async\" height=\"14\" src=\"//upload.wikimedia.org/wikipedia/commons/thumb/f/fa/Flag_of_Poland_%281919%E2%80%931928%29.svg/22px-Flag_of_Poland_%281919%E2%80%931928%29.svg.png\" srcset=\"//upload.wikimedia.org/wikipedia/commons/thumb/f/fa/Flag_of_Poland_%281919%E2%80%931928%29.svg/33px-Flag_of_Poland_%281919%E2%80%931928%29.svg.png 1.5x, //upload.wikimedia.org/wikipedia/commons/thumb/f/fa/Flag_of_Poland_%281919%E2%80%931928%29.svg/44px-Flag_of_Poland_%281919%E2%80%931928%29.svg.png 2x\" width=\"22\"/> <a href=\"/wiki/Poland_at_the_1928_Summer_Olympics\" title=\"Poland at the 1928 Summer Olympics\">Poland</a> <span style=\"font-size:90%;\">(POL)</span></th><td>1</td><td>0</td><td>1</td><td>2</td></tr><tr><td rowspan=\"3\">6</td><th scope=\"row\" style=\"background-color:#f8f9fa;text-align:left\"><img alt=\"\" class=\"thumbborder\" data-file-height=\"600\" data-file-width=\"900\" decoding=\"async\" height=\"15\" src=\"//upload.wikimedia.org/wikipedia/commons/thumb/4/41/Flag_of_Austria.svg/22px-Flag_of_Austria.svg.png\" srcset=\"//upload.wikimedia.org/wikipedia/commons/thumb/4/41/Flag_of_Austria.svg/33px-Flag_of_Austria.svg.png 1.5x, //upload.wikimedia.org/wikipedia/commons/thumb/4/41/Flag_of_Austria.svg/44px-Flag_of_Austria.svg.png 2x\" width=\"22\"/> <a href=\"/wiki/Austria_at_the_1928_Summer_Olympics\" title=\"Austria at the 1928 Summer Olympics\">Austria</a> <span style=\"font-size:90%;\">(AUT)</span></th><td>1</td><td>0</td><td>0</td><td>1</td></tr><tr><th scope=\"row\" style=\"background-color:#f8f9fa;text-align:left\"><img alt=\"\" class=\"thumbborder\" data-file-height=\"600\" data-file-width=\"900\" decoding=\"async\" height=\"15\" src=\"//upload.wikimedia.org/wikipedia/commons/thumb/c/cb/Flag_of_Hungary_%281915-1918%2C_1919-1946%3B_3-2_aspect_ratio%29.svg/22px-Flag_of_Hungary_%281915-1918%2C_1919-1946%3B_3-2_aspect_ratio%29.svg.png\" srcset=\"//upload.wikimedia.org/wikipedia/commons/thumb/c/cb/Flag_of_Hungary_%281915-1918%2C_1919-1946%3B_3-2_aspect_ratio%29.svg/33px-Flag_of_Hungary_%281915-1918%2C_1919-1946%3B_3-2_aspect_ratio%29.svg.png 1.5x, //upload.wikimedia.org/wikipedia/commons/thumb/c/cb/Flag_of_Hungary_%281915-1918%2C_1919-1946%3B_3-2_aspect_ratio%29.svg/44px-Flag_of_Hungary_%281915-1918%2C_1919-1946%3B_3-2_aspect_ratio%29.svg.png 2x\" width=\"22\"/> <a href=\"/wiki/Hungary_at_the_1928_Summer_Olympics\" title=\"Hungary at the 1928 Summer Olympics\">Hungary</a> <span style=\"font-size:90%;\">(HUN)</span></th><td>1</td><td>0</td><td>0</td><td>1</td></tr><tr><th scope=\"row\" style=\"background-color:#f8f9fa;text-align:left\"><img alt=\"\" class=\"thumbborder\" data-file-height=\"600\" data-file-width=\"1000\" decoding=\"async\" height=\"13\" src=\"//upload.wikimedia.org/wikipedia/commons/thumb/d/da/Flag_of_Luxembourg.svg/22px-Flag_of_Luxembourg.svg.png\" srcset=\"//upload.wikimedia.org/wikipedia/commons/thumb/d/da/Flag_of_Luxembourg.svg/33px-Flag_of_Luxembourg.svg.png 1.5x, //upload.wikimedia.org/wikipedia/commons/thumb/d/da/Flag_of_Luxembourg.svg/44px-Flag_of_Luxembourg.svg.png 2x\" width=\"22\"/> <a href=\"/wiki/Luxembourg_at_the_1928_Summer_Olympics\" title=\"Luxembourg at the 1928 Summer Olympics\">Luxembourg</a> <span style=\"font-size:90%;\">(LUX)</span></th><td>1</td><td>0</td><td>0</td><td>1</td></tr><tr><td>9</td><th scope=\"row\" style=\"background-color:#f8f9fa;text-align:left\"><img alt=\"\" class=\"thumbborder\" data-file-height=\"512\" data-file-width=\"512\" decoding=\"async\" height=\"20\" src=\"//upload.wikimedia.org/wikipedia/commons/thumb/f/f3/Flag_of_Switzerland.svg/20px-Flag_of_Switzerland.svg.png\" srcset=\"//upload.wikimedia.org/wikipedia/commons/thumb/f/f3/Flag_of_Switzerland.svg/30px-Flag_of_Switzerland.svg.png 1.5x, //upload.wikimedia.org/wikipedia/commons/thumb/f/f3/Flag_of_Switzerland.svg/40px-Flag_of_Switzerland.svg.png 2x\" width=\"20\"/> <a href=\"/wiki/Switzerland_at_the_1928_Summer_Olympics\" title=\"Switzerland at the 1928 Summer Olympics\">Switzerland</a> <span style=\"font-size:90%;\">(SUI)</span></th><td>0</td><td>2</td><td>0</td><td>2</td></tr><tr><td>10</td><th scope=\"row\" style=\"background-color:#f8f9fa;text-align:left\"><img alt=\"\" class=\"thumbborder\" data-file-height=\"387\" data-file-width=\"512\" decoding=\"async\" height=\"17\" src=\"//upload.wikimedia.org/wikipedia/commons/thumb/9/9c/Flag_of_Denmark.svg/22px-Flag_of_Denmark.svg.png\" srcset=\"//upload.wikimedia.org/wikipedia/commons/thumb/9/9c/Flag_of_Denmark.svg/33px-Flag_of_Denmark.svg.png 1.5x, //upload.wikimedia.org/wikipedia/commons/thumb/9/9c/Flag_of_Denmark.svg/44px-Flag_of_Denmark.svg.png 2x\" width=\"22\"/> <a href=\"/wiki/Denmark_at_the_1928_Summer_Olympics\" title=\"Denmark at the 1928 Summer Olympics\">Denmark</a> <span style=\"font-size:90%;\">(DEN)</span></th><td>0</td><td>1</td><td>2</td><td>3</td></tr><tr><td>11</td><th scope=\"row\" style=\"background-color:#f8f9fa;text-align:left\"><img alt=\"\" class=\"thumbborder\" data-file-height=\"1000\" data-file-width=\"1500\" decoding=\"async\" height=\"15\" src=\"//upload.wikimedia.org/wikipedia/commons/thumb/7/78/Flag_of_Italy_%281861%E2%80%931946%29.svg/22px-Flag_of_Italy_%281861%E2%80%931946%29.svg.png\" srcset=\"//upload.wikimedia.org/wikipedia/commons/thumb/7/78/Flag_of_Italy_%281861%E2%80%931946%29.svg/33px-Flag_of_Italy_%281861%E2%80%931946%29.svg.png 1.5x, //upload.wikimedia.org/wikipedia/commons/thumb/7/78/Flag_of_Italy_%281861%E2%80%931946%29.svg/44px-Flag_of_Italy_%281861%E2%80%931946%29.svg.png 2x\" width=\"22\"/> <a href=\"/wiki/Italy_at_the_1928_Summer_Olympics\" title=\"Italy at the 1928 Summer Olympics\">Italy</a> <span style=\"font-size:90%;\">(ITA)</span></th><td>0</td><td>1</td><td>0</td><td>1</td></tr><tr class=\"sortbottom\" style=\"background-color:#eaebef\"><th colspan=\"2\" scope=\"row\" style=\"background-color:#eaebef;font-weight:bold\">Totals (11 nations)</th><td style=\"font-weight:bold\">9</td><td style=\"font-weight:bold\">10</td><td style=\"font-weight:bold\">10</td><td style=\"font-weight:bold\">29</td></tr></tbody></table>\n"
     ]
    }
   ],
   "source": [
    "#tables = wiki_medal_table(1928).find_all('table')\n",
    "#medals = ''\n",
    "for table in tables:\n",
    "    if table['class'][0] == 'wikitable':\n",
    "        print(table)"
   ]
  },
  {
   "cell_type": "code",
   "execution_count": 6,
   "id": "429b046e",
   "metadata": {},
   "outputs": [
    {
     "data": {
      "text/plain": [
       "2016"
      ]
     },
     "execution_count": 6,
     "metadata": {},
     "output_type": "execute_result"
    }
   ],
   "source": [
    "#print(firsts)\n",
    "firsts['TJK']"
   ]
  }
 ],
 "metadata": {
  "kernelspec": {
   "display_name": "Python 3",
   "language": "python",
   "name": "python3"
  },
  "language_info": {
   "codemirror_mode": {
    "name": "ipython",
    "version": 3
   },
   "file_extension": ".py",
   "mimetype": "text/x-python",
   "name": "python",
   "nbconvert_exporter": "python",
   "pygments_lexer": "ipython3",
   "version": "3.8.8"
  }
 },
 "nbformat": 4,
 "nbformat_minor": 5
}
