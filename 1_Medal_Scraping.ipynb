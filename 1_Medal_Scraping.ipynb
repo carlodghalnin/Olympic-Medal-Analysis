{
 "cells": [
  {
   "cell_type": "markdown",
   "id": "079ebadc",
   "metadata": {},
   "source": [
    "Required libraries."
   ]
  },
  {
   "cell_type": "code",
   "execution_count": null,
   "id": "3d117a33",
   "metadata": {},
   "outputs": [],
   "source": [
    "$ pip install bs4\n",
    "$ pip install requests"
   ]
  },
  {
   "cell_type": "code",
   "execution_count": 1,
   "id": "61007fba",
   "metadata": {},
   "outputs": [],
   "source": [
    "from bs4 import BeautifulSoup \n",
    "import requests\n",
    "import csv"
   ]
  },
  {
   "cell_type": "markdown",
   "id": "2fce98d2",
   "metadata": {},
   "source": [
    "Scraping functions: generate BeautifulSoup object and analyze medal table."
   ]
  },
  {
   "cell_type": "code",
   "execution_count": 22,
   "id": "99b3b6e7",
   "metadata": {},
   "outputs": [],
   "source": [
    "def wiki_medal_table(year, event='Summer'):\n",
    "    '''Returns BeautifulSoup object of Wikipedia medal table page \n",
    "    for given Olympic event('Summer' or 'Winter')and year.\n",
    "    '''\n",
    "    \n",
    "    print(f'Getting Wikipedia page for {year} {event} Olympics...')\n",
    "    url = f'https://en.wikipedia.org/wiki/{year}_{event}_Olympics_medal_table'\n",
    "    return BeautifulSoup(requests.get(url).text, 'html5lib')\n",
    "\n",
    "def first_gold_medals(year,record):\n",
    "    '''Writes countries that scored their first Olympic gold during\n",
    "    the specified year to the dictionary record.\n",
    "    '''\n",
    "    \n",
    "    tables = wiki_medal_table(year).find_all('table')\n",
    "    medals = ''\n",
    "    for table in tables:\n",
    "        if table['class'][0] == 'wikitable':\n",
    "            medals = table\n",
    "            break\n",
    "    \n",
    "    print(f'Analyzing medal table for {year}...')\n",
    "    for row in medals.find_all('tr'):\n",
    "        if row.find_all('span'):\n",
    "            country = row.find_all('span')[0].string.strip('()')\n",
    "            if country in record:\n",
    "                continue\n",
    "            cols = row.find_all('td')\n",
    "            # Check if gold medal column has nonzero value\n",
    "            if cols and cols[len(cols) - 4].string != '0':\n",
    "                record[country] = year"
   ]
  },
  {
   "cell_type": "markdown",
   "id": "0de677a5",
   "metadata": {},
   "source": [
    "Generating Summer Olympics records. Simpler to hardcode missing years that can be counted on one hand rather than additional code to handle missing Wikipedia pages. Counts reallocations."
   ]
  },
  {
   "cell_type": "code",
   "execution_count": 23,
   "id": "5bbda1e8",
   "metadata": {},
   "outputs": [
    {
     "name": "stdout",
     "output_type": "stream",
     "text": [
      "Getting Wikipedia page for 1896 Summer Olympics...\n",
      "Analyzing medal table for 1896...\n",
      "Getting Wikipedia page for 1900 Summer Olympics...\n",
      "Analyzing medal table for 1900...\n",
      "Getting Wikipedia page for 1904 Summer Olympics...\n",
      "Analyzing medal table for 1904...\n",
      "Getting Wikipedia page for 1908 Summer Olympics...\n",
      "Analyzing medal table for 1908...\n",
      "Getting Wikipedia page for 1912 Summer Olympics...\n",
      "Analyzing medal table for 1912...\n",
      "Getting Wikipedia page for 1920 Summer Olympics...\n",
      "Analyzing medal table for 1920...\n",
      "Getting Wikipedia page for 1924 Summer Olympics...\n",
      "Analyzing medal table for 1924...\n",
      "Getting Wikipedia page for 1928 Summer Olympics...\n",
      "Analyzing medal table for 1928...\n",
      "Getting Wikipedia page for 1932 Summer Olympics...\n",
      "Analyzing medal table for 1932...\n",
      "Getting Wikipedia page for 1936 Summer Olympics...\n",
      "Analyzing medal table for 1936...\n",
      "Getting Wikipedia page for 1948 Summer Olympics...\n",
      "Analyzing medal table for 1948...\n",
      "Getting Wikipedia page for 1952 Summer Olympics...\n",
      "Analyzing medal table for 1952...\n",
      "Getting Wikipedia page for 1956 Summer Olympics...\n",
      "Analyzing medal table for 1956...\n",
      "Getting Wikipedia page for 1960 Summer Olympics...\n",
      "Analyzing medal table for 1960...\n",
      "Getting Wikipedia page for 1964 Summer Olympics...\n",
      "Analyzing medal table for 1964...\n",
      "Getting Wikipedia page for 1968 Summer Olympics...\n",
      "Analyzing medal table for 1968...\n",
      "Getting Wikipedia page for 1972 Summer Olympics...\n",
      "Analyzing medal table for 1972...\n",
      "Getting Wikipedia page for 1976 Summer Olympics...\n",
      "Analyzing medal table for 1976...\n",
      "Getting Wikipedia page for 1980 Summer Olympics...\n",
      "Analyzing medal table for 1980...\n",
      "Getting Wikipedia page for 1984 Summer Olympics...\n",
      "Analyzing medal table for 1984...\n",
      "Getting Wikipedia page for 1988 Summer Olympics...\n",
      "Analyzing medal table for 1988...\n",
      "Getting Wikipedia page for 1992 Summer Olympics...\n",
      "Analyzing medal table for 1992...\n",
      "Getting Wikipedia page for 1996 Summer Olympics...\n",
      "Analyzing medal table for 1996...\n",
      "Getting Wikipedia page for 2000 Summer Olympics...\n",
      "Analyzing medal table for 2000...\n",
      "Getting Wikipedia page for 2004 Summer Olympics...\n",
      "Analyzing medal table for 2004...\n",
      "Getting Wikipedia page for 2008 Summer Olympics...\n",
      "Analyzing medal table for 2008...\n",
      "Getting Wikipedia page for 2012 Summer Olympics...\n",
      "Analyzing medal table for 2012...\n",
      "Getting Wikipedia page for 2016 Summer Olympics...\n",
      "Analyzing medal table for 2016...\n",
      "{'USA': 1896, 'GRE': 1896, 'GER': 1896, 'FRA': 1896, 'GBR': 1896, 'HUN': 1896, 'AUT': 1896, 'AUS': 1896, 'DEN': 1896, 'SUI': 1896, 'ZZX': 1896, 'BEL': 1900, 'ITA': 1900, 'CUB': 1900, 'CAN': 1900, 'ESP': 1900, 'LUX': 1900, 'SWE': 1908, 'NOR': 1908, 'ANZ': 1908, 'RU1': 1908, 'FIN': 1908, 'RSA': 1908, 'NED': 1920, 'EST': 1920, 'BRA': 1920, 'YUG': 1924, 'TCH': 1924, 'ARG': 1924, 'URU': 1924, 'JPN': 1928, 'EGY': 1928, 'POL': 1928, 'IND': 1928, 'IRL': 1928, 'NZL': 1928, 'TUR': 1936, 'MEX': 1948, 'JAM': 1948, 'PER': 1948, 'URS': 1952, 'ROU': 1952, 'EUA': 1956, 'IRI': 1956, 'BUL': 1956, 'PAK': 1960, 'ETH': 1960, 'BAH': 1964, 'GDR': 1968, 'FRG': 1968, 'KEN': 1968, 'TUN': 1968, 'VEN': 1968, 'PRK': 1972, 'UGA': 1972, 'KOR': 1976, 'TRI': 1976, 'ZIM': 1980, 'CHN': 1984, 'MAR': 1984, 'POR': 1984, 'SUR': 1988, 'EUN': 1992, 'INA': 1992, 'ALG': 1992, 'LTU': 1992, 'RUS': 1996, 'UKR': 1996, 'CZE': 1996, 'KAZ': 1996, 'NGR': 1996, 'BLR': 1996, 'SVK': 1996, 'ARM': 1996, 'CRO': 1996, 'THA': 1996, 'BDI': 1996, 'CRC': 1996, 'ECU': 1996, 'HKG': 1996, 'SYR': 1996, 'AZE': 2000, 'SLO': 2000, 'UZB': 2000, 'LAT': 2000, 'CMR': 2000, 'COL': 2000, 'MOZ': 2000, 'TPE': 2004, 'GEO': 2004, 'CHI': 2004, 'ISR': 2004, 'DOM': 2004, 'UAE': 2004, 'MGL': 2008, 'TTO': 2008, 'PAN': 2008, 'SRB': 2012, 'BRN': 2012, 'GRN': 2012, 'VIE': 2016, 'IOA': 2016, 'CIV': 2016, 'FIJ': 2016, 'JOR': 2016, 'KOS': 2016, 'PUR': 2016, 'SIN': 2016, 'TJK': 2016}\n"
     ]
    }
   ],
   "source": [
    "firsts = {}\n",
    "\n",
    "for year in range(1896,2020,4):\n",
    "    if year not in (1916,1940,1944):\n",
    "        first_gold_medals(year, firsts)\n",
    "print(firsts)"
   ]
  },
  {
   "cell_type": "markdown",
   "id": "1057ed2a",
   "metadata": {},
   "source": [
    "Writing to CSV using IOC codes."
   ]
  },
  {
   "cell_type": "code",
   "execution_count": 24,
   "id": "406c38eb",
   "metadata": {},
   "outputs": [],
   "source": [
    "with open('first_golds.csv', 'w', newline='') as first_golds:  \n",
    "    writer = csv.writer(first_golds)\n",
    "    writer.writerow(['Country', 'Year'])\n",
    "    for country, year in firsts.items():\n",
    "       writer.writerow([country, year])"
   ]
  },
  {
   "cell_type": "markdown",
   "id": "0330903e",
   "metadata": {},
   "source": [
    "Generate IOC to ISO country codes conversion dictionary then convert IOC CSV."
   ]
  },
  {
   "cell_type": "code",
   "execution_count": 2,
   "id": "ab3bef98",
   "metadata": {},
   "outputs": [
    {
     "name": "stdout",
     "output_type": "stream",
     "text": [
      "{'ALG': 'DZA', 'ASA': 'ASM', 'ANG': 'AGO', 'ANT': 'ATG', 'ARU': 'ABW', 'BAH': 'BHS', 'BRN': 'BHR', 'BAN': 'BGD', 'BAR': 'BRB', 'BIZ': 'BLZ', 'BER': 'BMU', 'BHU': 'BTN', 'AHO': 'BES', 'BOT': 'BWA', 'IVB': 'VGB', 'BRU': 'BRN', 'BUL': 'BGR', 'BUR': 'BFA', 'CAM': 'KHM', 'CAY': 'CYM', 'CHA': 'TCD', 'CHI': 'CHL', 'CGO': 'COG', 'CRC': 'CRI', 'CRO': 'HRV', 'DEN': 'DNK', 'ESA': 'SLV', 'GEQ': 'GNQ', 'FIJ': 'FJI', 'GAM': 'GMB', 'GER': 'DEU', 'GRE': 'GRC', 'GRN': 'GRD', 'GUA': 'GTM', 'GUI': 'GIN', 'GBS': 'GNB', 'HAI': 'HTI', 'HON': 'HND', 'INA': 'IDN', 'IRI': 'IRN', 'KUW': 'KWT', 'LAT': 'LVA', 'LIB': 'LBN', 'LES': 'LSO', 'LBA': 'LBY', 'MAD': 'MDG', 'MAW': 'MWI', 'MAS': 'MYS', 'MTN': 'MRT', 'MRI': 'MUS', 'MON': 'MCO', 'MGL': 'MNG', 'MYA': 'MMR', 'NEP': 'NPL', 'NED': 'NLD', 'NCA': 'NIC', 'NIG': 'NER', 'NGR': 'NGA', 'OMA': 'OMN', 'PLE': 'PSE', 'PAR': 'PRY', 'PHI': 'PHL', 'POR': 'PRT', 'PUR': 'PRI', 'SKN': 'KNA', 'VIN': 'VCT', 'SAM': 'WSM', 'KSA': 'SAU', 'SEY': 'SYC', 'SLO': 'SVN', 'SOL': 'SLB', 'RSA': 'ZAF', 'SRI': 'LKA', 'SUD': 'SDN', 'SUI': 'CHE', 'TPE': 'TWN', 'TAN': 'TZA', 'TOG': 'TGO', 'TGA': 'TON', 'UAE': 'ARE', 'ISV': 'VIR', 'URU': 'URY', 'VAN': 'VUT', 'VIE': 'VNM', 'ZAM': 'ZMB', 'ZIM': 'ZWE'}\n"
     ]
    }
   ],
   "source": [
    "url = 'https://simple.wikipedia.org/wiki/Comparison_of_IOC,_FIFA,_and_ISO_3166_country_codes'\n",
    "soup = BeautifulSoup(requests.get(url).text, 'html5lib')\n",
    "\n",
    "table = soup.find('table')\n",
    "codes = {}\n",
    "\n",
    "for row in table.find_all('tr'):\n",
    "    cols = row.find_all('td')\n",
    "    # Only populate if IOC differs from ISO code.\n",
    "    if cols and cols[2].string:\n",
    "        if cols[2].string != cols[4].string.rstrip():\n",
    "            codes[cols[2].string] = cols[4].string.rstrip()\n",
    "        \n",
    "print(codes)"
   ]
  },
  {
   "cell_type": "code",
   "execution_count": 25,
   "id": "e4514e4b",
   "metadata": {},
   "outputs": [],
   "source": [
    "with open('first_golds.csv', 'r') as read, open('first_golds_iso.csv', 'w', newline='') as write:\n",
    "    ioc = csv.reader(read)\n",
    "    iso = csv.writer(write)\n",
    "    \n",
    "    for line in ioc:\n",
    "        if line[0] in codes:\n",
    "            iso.writerow([codes[line[0]],line[1]])\n",
    "        else:\n",
    "            iso.writerow([line[0],line[1]])"
   ]
  },
  {
   "cell_type": "markdown",
   "id": "da762c06",
   "metadata": {},
   "source": [
    "Testing and debugging: \n",
    "\n",
    "[X] Erroneous results in 1912 with NED. Time.sleep did not work. ~~Try identifying user agent.~~ Not potential timeout or lag. Was catching last row with medal total due to wrong indentation.\n",
    "\n",
    "[X] Erroneous results in 1936 with TUR, not recording first. Wrong table found, due to new \"Part of a series\" sidebar. Need way to identify medal table: Second table (or (tables)[1]) for 1936 onward.\n",
    "\n",
    "[X] Missing rank 21 and 24 rows for 1928, medal first ties. Getting wrong table due to setting last wikitable, need to break (assumes first wikitable is main medal table)."
   ]
  }
 ],
 "metadata": {
  "kernelspec": {
   "display_name": "Python 3",
   "language": "python",
   "name": "python3"
  },
  "language_info": {
   "codemirror_mode": {
    "name": "ipython",
    "version": 3
   },
   "file_extension": ".py",
   "mimetype": "text/x-python",
   "name": "python",
   "nbconvert_exporter": "python",
   "pygments_lexer": "ipython3",
   "version": "3.8.8"
  }
 },
 "nbformat": 4,
 "nbformat_minor": 5
}
